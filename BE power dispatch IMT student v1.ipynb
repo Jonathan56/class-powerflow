{
 "cells": [
  {
   "cell_type": "markdown",
   "source": [
    "# Bureau d'étude : Gestionnaire de réseau électrique (10h)\n",
    "\n",
    "## a) Objectif de l'étude :\n",
    "* Connaître les différents éléments d'un réseau électrique\n",
    "* Comprendre les enjeux d'un calcul de répartition des charges (power-flow)\n",
    "* Réaliser l'optimisation d'un réseau électrique en service\n",
    "\n",
    "## b) Modalité d'évaluation :\n",
    "* Formulaire en ligne à remplir avec les résultats aux questions, un par groupe [lien](#)\n",
    "* Exercice I (8 points) pour chacune des trois questions un graphique mettant clairement la réponse en évidence sera attendu (à uploader au format png)\n",
    "* Exercice II (12 points) trouver les set-points qui minimise les frais d'exploitation du réseau, une partie de la note dépendra de votre classement à trouver le plus petit coût.\n",
    "\n",
    "## c) Organisation :\n",
    "##### 2 h de cours magistral :\n",
    "* La structure en tension du réseau,\n",
    "* La puissance réactive,\n",
    "* Les equations de power-flow.\n",
    "##### 1 h prise en main du 'notebook' :\n",
    "* Illustration du cours sur un réseau simple\n",
    "* Présentation du problème à étudier\n",
    "##### 7 h résolution des exercices I et II\n",
    "* travail en groupe de 2 étudiant.es\n",
    "\n",
    "## d) Ressources pour aller plus loin :\n",
    "* [A Gentle Introduction to Power Flow](https://invenia.github.io/blog/2020/12/04/pf-intro/) (en anglais)\n"
   ],
   "metadata": {
    "collapsed": false
   }
  },
  {
   "cell_type": "markdown",
   "source": [
    "-----------------------\n",
    "# (suite du cours) Illustration sur un réseau simple\n",
    "\n",
    "![](simple_network.png)"
   ],
   "metadata": {
    "collapsed": false
   }
  },
  {
   "cell_type": "code",
   "execution_count": 16,
   "outputs": [
    {
     "data": {
      "text/plain": "      vm_pu   va_degree       p_mw    q_mvar\n0  1.000000    0.000000 -13.175143 -0.873977\n1  0.995671 -153.629404   0.000000  0.000000\n2  0.985603 -154.162784  13.000000  0.000000",
      "text/html": "<div>\n<style scoped>\n    .dataframe tbody tr th:only-of-type {\n        vertical-align: middle;\n    }\n\n    .dataframe tbody tr th {\n        vertical-align: top;\n    }\n\n    .dataframe thead th {\n        text-align: right;\n    }\n</style>\n<table border=\"1\" class=\"dataframe\">\n  <thead>\n    <tr style=\"text-align: right;\">\n      <th></th>\n      <th>vm_pu</th>\n      <th>va_degree</th>\n      <th>p_mw</th>\n      <th>q_mvar</th>\n    </tr>\n  </thead>\n  <tbody>\n    <tr>\n      <th>0</th>\n      <td>1.000000</td>\n      <td>0.000000</td>\n      <td>-13.175143</td>\n      <td>-0.873977</td>\n    </tr>\n    <tr>\n      <th>1</th>\n      <td>0.995671</td>\n      <td>-153.629404</td>\n      <td>0.000000</td>\n      <td>0.000000</td>\n    </tr>\n    <tr>\n      <th>2</th>\n      <td>0.985603</td>\n      <td>-154.162784</td>\n      <td>13.000000</td>\n      <td>0.000000</td>\n    </tr>\n  </tbody>\n</table>\n</div>"
     },
     "metadata": {},
     "output_type": "display_data"
    }
   ],
   "source": [
    "import pandapower as pp  # https://pandapower.readthedocs.io/en/latest/index.html\n",
    "\n",
    "net = pp.create_empty_network()\n",
    "\n",
    "# Define nodes (also named bus)\n",
    "b1 = pp.create_bus(net, vn_kv=110)\n",
    "b2 = pp.create_bus(net, vn_kv=20)\n",
    "b3 = pp.create_bus(net, vn_kv=20)\n",
    "\n",
    "# Add elements of the network\n",
    "pp.create_ext_grid(net, bus=b1)\n",
    "pp.create_transformer(net, hv_bus=b1, lv_bus=b2, std_type=\"25 MVA 110/20 kV\")\n",
    "pp.create_line(net, from_bus=b2, to_bus=b3, length_km=2.5, std_type=\"NA2XS2Y 1x240 RM/25 12/20 kV\")\n",
    "pp.create_load(net, bus=b3, p_mw=13, q_mvar=0)\n",
    "\n",
    "# Run a power-flow\n",
    "pp.runpp(net)\n",
    "\n",
    "# Results\n",
    "display(net.res_bus)"
   ],
   "metadata": {
    "collapsed": false
   }
  },
  {
   "cell_type": "markdown",
   "source": [
    "Note comme attendu :\n",
    "1. la tension descend le long de la ligne comme il y a une consommation de puissance active et réactive\n",
    "2. le \"slack bus\" ou \"external grid\" fourni un peu plus de puissance active et réactive pour couvrir les pertes"
   ],
   "metadata": {
    "collapsed": false
   }
  },
  {
   "cell_type": "code",
   "execution_count": 7,
   "outputs": [
    {
     "data": {
      "text/plain": "   loading_percent\n0        90.441645",
      "text/html": "<div>\n<style scoped>\n    .dataframe tbody tr th:only-of-type {\n        vertical-align: middle;\n    }\n\n    .dataframe tbody tr th {\n        vertical-align: top;\n    }\n\n    .dataframe thead th {\n        text-align: right;\n    }\n</style>\n<table border=\"1\" class=\"dataframe\">\n  <thead>\n    <tr style=\"text-align: right;\">\n      <th></th>\n      <th>loading_percent</th>\n    </tr>\n  </thead>\n  <tbody>\n    <tr>\n      <th>0</th>\n      <td>90.441645</td>\n    </tr>\n  </tbody>\n</table>\n</div>"
     },
     "metadata": {},
     "output_type": "display_data"
    }
   ],
   "source": [
    "display(net.res_line.loc[:, [\"loading_percent\"]])"
   ],
   "metadata": {
    "collapsed": false
   }
  },
  {
   "cell_type": "code",
   "execution_count": null,
   "outputs": [],
   "source": [],
   "metadata": {
    "collapsed": false
   }
  },
  {
   "cell_type": "code",
   "execution_count": null,
   "outputs": [],
   "source": [],
   "metadata": {
    "collapsed": false
   }
  },
  {
   "cell_type": "code",
   "execution_count": null,
   "outputs": [],
   "source": [],
   "metadata": {
    "collapsed": false
   }
  },
  {
   "cell_type": "code",
   "execution_count": null,
   "outputs": [],
   "source": [],
   "metadata": {
    "collapsed": false
   }
  },
  {
   "cell_type": "markdown",
   "source": [
    "------------------------------\n",
    "# Exercice I - Allonger un réseau électrique à une branche\n",
    "## Objectif :\n",
    "* Se familiariser avec [PandaPower](https://pandapower.readthedocs.io/en/latest/index.html) pour résoudre un power-flow\n",
    "* Mettre en pratique les connaissances du cours\n",
    "\n",
    "## Contexte\n",
    "\n",
    "![](simple_network.png)\n",
    "\n",
    "On imagine un réseau moyenne tension composé d'un transformateur 110kV vers 20kV, une ligne aérienne de 2.5km, puis une charge de 13MW.\n",
    "Contraintes : pour rester dans un fonctionnement normal, la ligne et le transformateur ne doivent pas dépasser un \"loading\" de 100%.\n",
    "De même l'amplitude de tension à tous les nœuds doit rester entre 0.95 p.u et 1.05 p.u (i.e., plus ou moins 5%).\n",
    "\n",
    "## Question :\n",
    "1. Augmenter la longueur de ligne : quelle longueur de ligne avant l'apparition d'une contrainte en tension ou en loading maximum ?\n",
    "2. On ajoute une compensation en puissance réactive sur la charge de \"q_mvar = -6 MVar\" : que devient cette longueur maximum ?\n",
    "3. Quelle compensation en puissance réactive permet d'atteindre la plus grande longueur de ligne ?\n",
    "\n",
    "Note : Chaque question devra être répondue par un graphique où la réponse à la question est évidente."
   ],
   "metadata": {
    "collapsed": false
   }
  },
  {
   "cell_type": "code",
   "execution_count": 10,
   "outputs": [],
   "source": [
    "import pandapower as pp\n",
    "\n",
    "# Create a simple network: external grid 110kV --(b1)-- transformer --(b2)-- line 20kV --(b3)-- load 13MW\n",
    "def create_and_run_simple_net(line_length_km=2.5, q_mvar=0):\n",
    "    \"\"\"\n",
    "    Note : à ne pas modifier pour garder le même réseau.\n",
    "    \"\"\"\n",
    "    net = pp.create_empty_network()\n",
    "\n",
    "    # Define nodes (also named bus)\n",
    "    b1 = pp.create_bus(net, vn_kv=110)\n",
    "    b2 = pp.create_bus(net, vn_kv=20)\n",
    "    b3 = pp.create_bus(net, vn_kv=20)\n",
    "\n",
    "    # Add elements of the network\n",
    "    pp.create_ext_grid(net, bus=b1)\n",
    "    pp.create_transformer(net, hv_bus=b1, lv_bus=b2, std_type=\"25 MVA 110/20 kV\")\n",
    "    pp.create_line(net, from_bus=b2, to_bus=b3, length_km=line_length_km, std_type=\"NA2XS2Y 1x240 RM/25 12/20 kV\")\n",
    "    pp.create_load(net, bus=b3, p_mw=13, q_mvar=q_mvar)\n",
    "\n",
    "    # Run a power-flow\n",
    "    pp.runpp(net)\n",
    "    return net"
   ],
   "metadata": {
    "collapsed": false
   }
  },
  {
   "cell_type": "code",
   "execution_count": 11,
   "outputs": [
    {
     "name": "stdout",
     "output_type": "stream",
     "text": [
      "Bus results:\n",
      "------------\n"
     ]
    },
    {
     "data": {
      "text/plain": "      vm_pu   va_degree       p_mw    q_mvar\n0  1.000000    0.000000 -13.175143 -0.873977\n1  0.995671 -153.629404   0.000000  0.000000\n2  0.985603 -154.162784  13.000000  0.000000",
      "text/html": "<div>\n<style scoped>\n    .dataframe tbody tr th:only-of-type {\n        vertical-align: middle;\n    }\n\n    .dataframe tbody tr th {\n        vertical-align: top;\n    }\n\n    .dataframe thead th {\n        text-align: right;\n    }\n</style>\n<table border=\"1\" class=\"dataframe\">\n  <thead>\n    <tr style=\"text-align: right;\">\n      <th></th>\n      <th>vm_pu</th>\n      <th>va_degree</th>\n      <th>p_mw</th>\n      <th>q_mvar</th>\n    </tr>\n  </thead>\n  <tbody>\n    <tr>\n      <th>0</th>\n      <td>1.000000</td>\n      <td>0.000000</td>\n      <td>-13.175143</td>\n      <td>-0.873977</td>\n    </tr>\n    <tr>\n      <th>1</th>\n      <td>0.995671</td>\n      <td>-153.629404</td>\n      <td>0.000000</td>\n      <td>0.000000</td>\n    </tr>\n    <tr>\n      <th>2</th>\n      <td>0.985603</td>\n      <td>-154.162784</td>\n      <td>13.000000</td>\n      <td>0.000000</td>\n    </tr>\n  </tbody>\n</table>\n</div>"
     },
     "metadata": {},
     "output_type": "display_data"
    },
    {
     "name": "stdout",
     "output_type": "stream",
     "text": [
      "Line loading results:\n",
      "---------------------\n"
     ]
    },
    {
     "data": {
      "text/plain": "   loading_percent\n0        90.441645",
      "text/html": "<div>\n<style scoped>\n    .dataframe tbody tr th:only-of-type {\n        vertical-align: middle;\n    }\n\n    .dataframe tbody tr th {\n        vertical-align: top;\n    }\n\n    .dataframe thead th {\n        text-align: right;\n    }\n</style>\n<table border=\"1\" class=\"dataframe\">\n  <thead>\n    <tr style=\"text-align: right;\">\n      <th></th>\n      <th>loading_percent</th>\n    </tr>\n  </thead>\n  <tbody>\n    <tr>\n      <th>0</th>\n      <td>90.441645</td>\n    </tr>\n  </tbody>\n</table>\n</div>"
     },
     "metadata": {},
     "output_type": "display_data"
    }
   ],
   "source": [
    "net = create_and_run_simple_net(line_length_km=2.5, q_mvar=0)\n",
    "\n",
    "print(\"Bus results:\")\n",
    "print(\"------------\")\n",
    "display(net.res_bus)\n",
    "\n",
    "print(\"Line loading results:\")\n",
    "print(\"---------------------\")\n",
    "display(net.res_line.loc[:, [\"loading_percent\"]])"
   ],
   "metadata": {
    "collapsed": false
   }
  },
  {
   "cell_type": "code",
   "execution_count": null,
   "outputs": [],
   "source": [],
   "metadata": {
    "collapsed": false
   }
  },
  {
   "cell_type": "code",
   "execution_count": null,
   "outputs": [],
   "source": [],
   "metadata": {
    "collapsed": false
   }
  },
  {
   "cell_type": "code",
   "execution_count": null,
   "outputs": [],
   "source": [],
   "metadata": {
    "collapsed": false
   }
  },
  {
   "cell_type": "code",
   "execution_count": null,
   "outputs": [],
   "source": [],
   "metadata": {
    "collapsed": false
   }
  },
  {
   "cell_type": "code",
   "execution_count": null,
   "outputs": [],
   "source": [],
   "metadata": {
    "collapsed": false
   }
  },
  {
   "cell_type": "code",
   "execution_count": null,
   "outputs": [],
   "source": [],
   "metadata": {
    "collapsed": false
   }
  },
  {
   "cell_type": "code",
   "execution_count": null,
   "outputs": [],
   "source": [],
   "metadata": {
    "collapsed": false
   }
  },
  {
   "cell_type": "code",
   "execution_count": null,
   "outputs": [],
   "source": [],
   "metadata": {
    "collapsed": false
   }
  },
  {
   "cell_type": "code",
   "execution_count": null,
   "outputs": [],
   "source": [],
   "metadata": {
    "collapsed": false
   }
  },
  {
   "cell_type": "markdown",
   "source": [
    "------------------------\n",
    "# Exercice II - Minimiser les pertes dans un réseau électrique maillé\n",
    "## Objectif :\n",
    "* Mixer connaissances physique et optimisation multivariables dans un réseau maillé\n",
    "\n",
    "## Contexte\n",
    "\n",
    "![](9bus.png)\n",
    "\n",
    "On imagine le réseau IEEE 9-Bus comme un territoire à part entière qui cherche à minimiser ses coûts de fonctionnement. Pour cela, le gestionnaire de réseau se doit de sélectionner les générateurs les moins chers tout en respectant les contraintes en tension et 'loading' du réseau.\n",
    "\n",
    "| Générateur        | prix      |\n",
    "|-------------------|-----------|\n",
    "| Ext_grid at bus 1 | 150 €/MWh |\n",
    "| Gen 2 at bus 2    | 25 €/MWh  |\n",
    "| Gen 3 at bus 3    | 50 €/MWh  |\n",
    "\n",
    "L'espace de décision du gestionnaire se restreint à 5 variables : $P_2, v_2, P_3, v_3$ les puissances actives et la tension aux bornes des générateurs 2 et 3 et $v_1$ la tension de \"ext_grid\" représentant le slack bus. Seule la puissance active est facturée pendant 1 h d'opération, l'équation de coût est alors $coût = P_2 * \\pi_2 + P_3 * \\pi_3 + |P_{ext grid} * \\pi_1|$ (eq. 1) avec $\\pi$ le prix du MWh du tableau ci-dessus. À noter qu'une éventuelle puissance excédentaire \"exportée\" slack bus n'est pas rémunérée.\n",
    "\n",
    "Par ailleurs la consommation de la charge au bus 7 est incertaine, mais sa variation est régie par une loi de probabilité normale qui suit les paramètres suivants $\\mu=0$MW et $\\sigma^2=12.5$MW.\n",
    "\n",
    "Enfin le gestionnaire de réseau tolère des conditions au dela de **100% de loading** sur les lignes et **une tension variant de 0.9 pu à 1.1pu** pendant 5% du temps, ce qui lui permet de réduire ses coûts, en évitant de prévoir pour le pire scénario. Pour pénaliser un fonctionnement hors des contraintes au dela de 5% du temps, chaque pourcentage supplémentaire est facturé 1000 € (par exemple, si 7% du temps les contraintes sont dépassées soit 2% de trop, alors une pénalité de $2 \\times 1000 = 2000€$ s'ajoute au coût de l'eq. 1).\n",
    "\n",
    "> **_Notes :_** les contraintes en tensions ont été relaxées à $\\pm 10$% comparé à l'exercice I où elles étaient à $\\pm 5$%.\n",
    "\n",
    "## Question\n",
    "1. Minimiser le coût de l'énergie pour la gestion du réseau électrique en donnant les variables $P_2, v_2$ et $P_3, v_3$ pour les générateurs aux bus 2 et 3 et $v_1$ pour la tension au slack bus 1.\n",
    "\n",
    "> **_Réponse à la question :_** \"26 k€, mais il est à priori possible de faire mieux.\"\n",
    "\n",
    "&nbsp;\n",
    "\n",
    "---\n",
    "**_Astuces pour décomposer le problème :_**\n",
    "* Sans tenir compte des contraintes en tension et 'loading', ni de la variation de load 7, quel est le coût minimum ?\n",
    "* Quel coût en tenant compte des contraintes réseaux, mais sans la variation de load 7 ?\n",
    "* Prenez ensuite en compte les incertitudes sur la load 6...\n",
    "---\n"
   ],
   "metadata": {
    "collapsed": false
   }
  },
  {
   "cell_type": "code",
   "execution_count": 1,
   "outputs": [],
   "source": [
    "import pandapower as pp\n",
    "\n",
    "def create_and_run_9bus(slack1_v=1.0, gen2_mw=0, gen2_v=1.0, gen3_mw=0, gen3_v=1.0, load7_variation=0):\n",
    "    \"\"\"\n",
    "    Note : à ne pas modifier pour garder le même réseau.\n",
    "    \"\"\"\n",
    "    # Create the network\n",
    "    # -----------------------------------------\n",
    "    net = pp.networks.case9()\n",
    "\n",
    "    # Increase capacity of transformer\n",
    "    net.line.loc[0, \"max_i_ka\"] = 1.0\n",
    "    net.line.loc[3, \"max_i_ka\"] = 1.0\n",
    "    net.line.loc[6, \"max_i_ka\"] = 1.0\n",
    "\n",
    "    # Lines around slack bus\n",
    "    net.line.loc[1, \"max_i_ka\"] = 1.0\n",
    "    net.line.loc[8, \"max_i_ka\"] = 1.0\n",
    "\n",
    "    # Lines around 2nd gen\n",
    "    net.line.loc[2, \"max_i_ka\"] = 0.5\n",
    "    net.line.loc[4, \"max_i_ka\"] = 0.5\n",
    "\n",
    "    # Line around 1st gen\n",
    "    net.line.loc[5, \"max_i_ka\"] = 0.25\n",
    "    net.line.loc[7, \"max_i_ka\"] = 0.25\n",
    "\n",
    "    # Load demand\n",
    "    net.load.loc[0, \"p_mw\"] = 150\n",
    "    net.load.loc[0, \"q_mvar\"] = -150\n",
    "\n",
    "    net.load.loc[1, \"p_mw\"] = 300\n",
    "    net.load.loc[1, \"q_mvar\"] = 75\n",
    "\n",
    "    net.load.loc[2, \"p_mw\"] = 150\n",
    "    net.load.loc[2, \"q_mvar\"] = 50\n",
    "    # -----------------------------------------\n",
    "\n",
    "    # Slack bus voltage\n",
    "    net.ext_grid.loc[0, \"vm_pu\"] = slack1_v\n",
    "\n",
    "    # Change generator set-points\n",
    "    # Generator 1\n",
    "    net.gen.loc[0, \"p_mw\"] = gen2_mw\n",
    "    net.gen.loc[0, \"vm_pu\"] = gen2_v\n",
    "\n",
    "    # Generator 2\n",
    "    net.gen.loc[1, \"p_mw\"] = gen3_mw\n",
    "    net.gen.loc[1, \"vm_pu\"] = gen3_v\n",
    "\n",
    "    # Load variation\n",
    "    net.load.loc[1, \"p_mw\"] += load7_variation\n",
    "\n",
    "    pp.runpp(net)\n",
    "    return net"
   ],
   "metadata": {
    "collapsed": false
   }
  },
  {
   "cell_type": "code",
   "execution_count": 5,
   "outputs": [
    {
     "name": "stdout",
     "output_type": "stream",
     "text": [
      "Bus results:\n",
      "------------\n"
     ]
    },
    {
     "data": {
      "text/plain": "      vm_pu  va_degree        p_mw      q_mvar\n0  1.000000   0.000000 -289.069652   17.254515\n1  1.000000 -12.937340 -125.000000  -37.229320\n2  1.000000  -6.222188 -200.000000    0.278609\n3  1.023572  -9.361888    0.000000    0.000000\n4  1.095169 -16.320725  150.000000 -150.000000\n5  1.007007 -12.905677    0.000000    0.000000\n6  0.939376 -23.162607  300.000000   75.000000\n7  0.979851 -17.510472    0.000000    0.000000\n8  0.977633 -16.851815  150.000000   50.000000",
      "text/html": "<div>\n<style scoped>\n    .dataframe tbody tr th:only-of-type {\n        vertical-align: middle;\n    }\n\n    .dataframe tbody tr th {\n        vertical-align: top;\n    }\n\n    .dataframe thead th {\n        text-align: right;\n    }\n</style>\n<table border=\"1\" class=\"dataframe\">\n  <thead>\n    <tr style=\"text-align: right;\">\n      <th></th>\n      <th>vm_pu</th>\n      <th>va_degree</th>\n      <th>p_mw</th>\n      <th>q_mvar</th>\n    </tr>\n  </thead>\n  <tbody>\n    <tr>\n      <th>0</th>\n      <td>1.000000</td>\n      <td>0.000000</td>\n      <td>-289.069652</td>\n      <td>17.254515</td>\n    </tr>\n    <tr>\n      <th>1</th>\n      <td>1.000000</td>\n      <td>-12.937340</td>\n      <td>-125.000000</td>\n      <td>-37.229320</td>\n    </tr>\n    <tr>\n      <th>2</th>\n      <td>1.000000</td>\n      <td>-6.222188</td>\n      <td>-200.000000</td>\n      <td>0.278609</td>\n    </tr>\n    <tr>\n      <th>3</th>\n      <td>1.023572</td>\n      <td>-9.361888</td>\n      <td>0.000000</td>\n      <td>0.000000</td>\n    </tr>\n    <tr>\n      <th>4</th>\n      <td>1.095169</td>\n      <td>-16.320725</td>\n      <td>150.000000</td>\n      <td>-150.000000</td>\n    </tr>\n    <tr>\n      <th>5</th>\n      <td>1.007007</td>\n      <td>-12.905677</td>\n      <td>0.000000</td>\n      <td>0.000000</td>\n    </tr>\n    <tr>\n      <th>6</th>\n      <td>0.939376</td>\n      <td>-23.162607</td>\n      <td>300.000000</td>\n      <td>75.000000</td>\n    </tr>\n    <tr>\n      <th>7</th>\n      <td>0.979851</td>\n      <td>-17.510472</td>\n      <td>0.000000</td>\n      <td>0.000000</td>\n    </tr>\n    <tr>\n      <th>8</th>\n      <td>0.977633</td>\n      <td>-16.851815</td>\n      <td>150.000000</td>\n      <td>50.000000</td>\n    </tr>\n  </tbody>\n</table>\n</div>"
     },
     "metadata": {},
     "output_type": "display_data"
    },
    {
     "name": "stdout",
     "output_type": "stream",
     "text": [
      "Line loading results:\n",
      "---------------------\n"
     ]
    },
    {
     "data": {
      "text/plain": "   loading_percent\n0        48.461301\n1        27.132510\n2        26.366515\n3        33.469613\n4        62.137075\n5        96.214344\n6        21.826570\n7        12.541943\n8        27.343052",
      "text/html": "<div>\n<style scoped>\n    .dataframe tbody tr th:only-of-type {\n        vertical-align: middle;\n    }\n\n    .dataframe tbody tr th {\n        vertical-align: top;\n    }\n\n    .dataframe thead th {\n        text-align: right;\n    }\n</style>\n<table border=\"1\" class=\"dataframe\">\n  <thead>\n    <tr style=\"text-align: right;\">\n      <th></th>\n      <th>loading_percent</th>\n    </tr>\n  </thead>\n  <tbody>\n    <tr>\n      <th>0</th>\n      <td>48.461301</td>\n    </tr>\n    <tr>\n      <th>1</th>\n      <td>27.132510</td>\n    </tr>\n    <tr>\n      <th>2</th>\n      <td>26.366515</td>\n    </tr>\n    <tr>\n      <th>3</th>\n      <td>33.469613</td>\n    </tr>\n    <tr>\n      <th>4</th>\n      <td>62.137075</td>\n    </tr>\n    <tr>\n      <th>5</th>\n      <td>96.214344</td>\n    </tr>\n    <tr>\n      <th>6</th>\n      <td>21.826570</td>\n    </tr>\n    <tr>\n      <th>7</th>\n      <td>12.541943</td>\n    </tr>\n    <tr>\n      <th>8</th>\n      <td>27.343052</td>\n    </tr>\n  </tbody>\n</table>\n</div>"
     },
     "metadata": {},
     "output_type": "display_data"
    }
   ],
   "source": [
    "net = create_and_run_9bus(slack1_v=1.0, gen2_mw=125, gen2_v=1.0, gen3_mw=200, gen3_v=1.0, load7_variation=0)\n",
    "\n",
    "print(\"Bus results:\")\n",
    "print(\"------------\")\n",
    "display(net.res_bus)\n",
    "\n",
    "print(\"Line loading results:\")\n",
    "print(\"---------------------\")\n",
    "display(net.res_line.loc[:, [\"loading_percent\"]])"
   ],
   "metadata": {
    "collapsed": false
   }
  },
  {
   "cell_type": "code",
   "execution_count": null,
   "outputs": [],
   "source": [],
   "metadata": {
    "collapsed": false
   }
  },
  {
   "cell_type": "code",
   "execution_count": null,
   "outputs": [],
   "source": [],
   "metadata": {
    "collapsed": false
   }
  },
  {
   "cell_type": "code",
   "execution_count": null,
   "outputs": [],
   "source": [],
   "metadata": {
    "collapsed": false
   }
  },
  {
   "cell_type": "code",
   "execution_count": null,
   "outputs": [],
   "source": [],
   "metadata": {
    "collapsed": false
   }
  },
  {
   "cell_type": "code",
   "execution_count": null,
   "outputs": [],
   "source": [],
   "metadata": {
    "collapsed": false
   }
  },
  {
   "cell_type": "code",
   "execution_count": null,
   "outputs": [],
   "source": [],
   "metadata": {
    "collapsed": false
   }
  },
  {
   "cell_type": "code",
   "execution_count": null,
   "outputs": [],
   "source": [],
   "metadata": {
    "collapsed": false
   }
  }
 ],
 "metadata": {
  "kernelspec": {
   "display_name": "Python 3",
   "language": "python",
   "name": "python3"
  },
  "language_info": {
   "codemirror_mode": {
    "name": "ipython",
    "version": 2
   },
   "file_extension": ".py",
   "mimetype": "text/x-python",
   "name": "python",
   "nbconvert_exporter": "python",
   "pygments_lexer": "ipython2",
   "version": "2.7.6"
  }
 },
 "nbformat": 4,
 "nbformat_minor": 0
}
